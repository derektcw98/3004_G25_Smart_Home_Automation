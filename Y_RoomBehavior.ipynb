{
 "cells": [
  {
   "cell_type": "code",
   "execution_count": 4,
   "metadata": {},
   "outputs": [
    {
     "data": {
      "text/html": [
       "<div>\n",
       "<style scoped>\n",
       "    .dataframe tbody tr th:only-of-type {\n",
       "        vertical-align: middle;\n",
       "    }\n",
       "\n",
       "    .dataframe tbody tr th {\n",
       "        vertical-align: top;\n",
       "    }\n",
       "\n",
       "    .dataframe thead th {\n",
       "        text-align: right;\n",
       "    }\n",
       "</style>\n",
       "<table border=\"1\" class=\"dataframe\">\n",
       "  <thead>\n",
       "    <tr style=\"text-align: right;\">\n",
       "      <th></th>\n",
       "      <th>day</th>\n",
       "      <th>hour</th>\n",
       "      <th>temperature</th>\n",
       "      <th>light_state</th>\n",
       "      <th>aircon_state</th>\n",
       "    </tr>\n",
       "  </thead>\n",
       "  <tbody>\n",
       "    <tr>\n",
       "      <th>0</th>\n",
       "      <td>5</td>\n",
       "      <td>0</td>\n",
       "      <td>27.5</td>\n",
       "      <td>0</td>\n",
       "      <td>0</td>\n",
       "    </tr>\n",
       "    <tr>\n",
       "      <th>1</th>\n",
       "      <td>5</td>\n",
       "      <td>0</td>\n",
       "      <td>28.5</td>\n",
       "      <td>1</td>\n",
       "      <td>0</td>\n",
       "    </tr>\n",
       "    <tr>\n",
       "      <th>2</th>\n",
       "      <td>5</td>\n",
       "      <td>0</td>\n",
       "      <td>27.5</td>\n",
       "      <td>1</td>\n",
       "      <td>0</td>\n",
       "    </tr>\n",
       "    <tr>\n",
       "      <th>3</th>\n",
       "      <td>5</td>\n",
       "      <td>0</td>\n",
       "      <td>29.5</td>\n",
       "      <td>1</td>\n",
       "      <td>0</td>\n",
       "    </tr>\n",
       "    <tr>\n",
       "      <th>4</th>\n",
       "      <td>5</td>\n",
       "      <td>0</td>\n",
       "      <td>27.5</td>\n",
       "      <td>1</td>\n",
       "      <td>0</td>\n",
       "    </tr>\n",
       "    <tr>\n",
       "      <th>...</th>\n",
       "      <td>...</td>\n",
       "      <td>...</td>\n",
       "      <td>...</td>\n",
       "      <td>...</td>\n",
       "      <td>...</td>\n",
       "    </tr>\n",
       "    <tr>\n",
       "      <th>32250</th>\n",
       "      <td>4</td>\n",
       "      <td>23</td>\n",
       "      <td>28.5</td>\n",
       "      <td>1</td>\n",
       "      <td>0</td>\n",
       "    </tr>\n",
       "    <tr>\n",
       "      <th>32251</th>\n",
       "      <td>4</td>\n",
       "      <td>23</td>\n",
       "      <td>27.5</td>\n",
       "      <td>0</td>\n",
       "      <td>0</td>\n",
       "    </tr>\n",
       "    <tr>\n",
       "      <th>32252</th>\n",
       "      <td>4</td>\n",
       "      <td>23</td>\n",
       "      <td>28.5</td>\n",
       "      <td>1</td>\n",
       "      <td>0</td>\n",
       "    </tr>\n",
       "    <tr>\n",
       "      <th>32253</th>\n",
       "      <td>4</td>\n",
       "      <td>23</td>\n",
       "      <td>28.5</td>\n",
       "      <td>1</td>\n",
       "      <td>0</td>\n",
       "    </tr>\n",
       "    <tr>\n",
       "      <th>32254</th>\n",
       "      <td>4</td>\n",
       "      <td>23</td>\n",
       "      <td>31.0</td>\n",
       "      <td>0</td>\n",
       "      <td>0</td>\n",
       "    </tr>\n",
       "  </tbody>\n",
       "</table>\n",
       "<p>32255 rows × 5 columns</p>\n",
       "</div>"
      ],
      "text/plain": [
       "       day  hour  temperature  light_state  aircon_state\n",
       "0        5     0         27.5            0             0\n",
       "1        5     0         28.5            1             0\n",
       "2        5     0         27.5            1             0\n",
       "3        5     0         29.5            1             0\n",
       "4        5     0         27.5            1             0\n",
       "...    ...   ...          ...          ...           ...\n",
       "32250    4    23         28.5            1             0\n",
       "32251    4    23         27.5            0             0\n",
       "32252    4    23         28.5            1             0\n",
       "32253    4    23         28.5            1             0\n",
       "32254    4    23         31.0            0             0\n",
       "\n",
       "[32255 rows x 5 columns]"
      ]
     },
     "execution_count": 4,
     "metadata": {},
     "output_type": "execute_result"
    }
   ],
   "source": [
    "import numpy as np\n",
    "import pandas as pd\n",
    "from sklearn.model_selection import train_test_split\n",
    "from sklearn.neighbors import KNeighborsClassifier\n",
    "import matplotlib.pyplot as plt \n",
    "import seaborn as sns\n",
    "from sklearn.preprocessing import StandardScaler\n",
    "\n",
    "df = pd.read_csv('data.csv')\n",
    "\n",
    "#day of week, time, temperature, humidity, light on/off, aircon on/off, aircon temp, room, class\n",
    "df.columns = [\"day\", \"hour\", \"minute\", \"temperature\", \"humidity\", \"light_state\", \"aircon_state\", \"aircon_temp\", \"room\", \"class\"]\n",
    "\n",
    "# tentatively reduced to 5 features for POC\n",
    "y = df['class']\n",
    "X = df.drop('class', axis = 1)\n",
    "X = X.drop('minute', axis = 1)\n",
    "X = X.drop('aircon_temp', axis = 1)\n",
    "X = X.drop('room', axis = 1)\n",
    "X = X.drop('humidity', axis = 1)\n",
    "\n",
    "X"
   ]
  },
  {
   "cell_type": "code",
   "execution_count": 5,
   "metadata": {},
   "outputs": [
    {
     "name": "stdout",
     "output_type": "stream",
     "text": [
      "[[ 363   22   18    0    0    0    0    0]\n",
      " [   8 2027    0    8    0    0    0    0]\n",
      " [   7    0 1740    5    0    0    0    0]\n",
      " [   0   17   35  370    0    0    0    0]\n",
      " [   0    0    0    0  380    0    7    0]\n",
      " [   0    0    0    0    6  619    0    1]\n",
      " [   0    0    0    0   14    0  668    0]\n",
      " [   0    0    0    3    0   14   14  105]]\n",
      "              precision    recall  f1-score   support\n",
      "\n",
      "        wddc       0.96      0.90      0.93       403\n",
      "        wddh       0.98      0.99      0.99      2043\n",
      "        wdnc       0.97      0.99      0.98      1752\n",
      "        wdnh       0.96      0.88      0.92       422\n",
      "        wedc       0.95      0.98      0.97       387\n",
      "        wedh       0.98      0.99      0.98       626\n",
      "        wenc       0.97      0.98      0.97       682\n",
      "        wenh       0.99      0.77      0.87       136\n",
      "\n",
      "    accuracy                           0.97      6451\n",
      "   macro avg       0.97      0.94      0.95      6451\n",
      "weighted avg       0.97      0.97      0.97      6451\n",
      "\n"
     ]
    }
   ],
   "source": [
    "X_train, X_test, y_train, y_test = train_test_split(X, y, test_size=0.20)\n",
    "\n",
    "# Scalers improved the accuracy but don't really know how to use it on the individual datas to test yet\n",
    "# from sklearn.preprocessing import StandardScaler\n",
    "# scaler = StandardScaler()\n",
    "# scaler.fit(X_train)\n",
    "\n",
    "# X_train = scaler.transform(X_train)\n",
    "# X_test = scaler.transform(X_test)\n",
    "\n",
    "classifier = KNeighborsClassifier(n_neighbors=5)\n",
    "classifier.fit(X_train, y_train)\n",
    "y_pred = classifier.predict(X_test)\n",
    "\n",
    "from sklearn.metrics import classification_report, confusion_matrix\n",
    "print(confusion_matrix(y_test, y_pred))\n",
    "print(classification_report(y_test, y_pred))"
   ]
  },
  {
   "cell_type": "code",
   "execution_count": 6,
   "metadata": {},
   "outputs": [
    {
     "name": "stdout",
     "output_type": "stream",
     "text": [
      "['wedh']\n",
      "['wddh']\n",
      "['wdnc']\n",
      "['wedc']\n"
     ]
    },
    {
     "name": "stderr",
     "output_type": "stream",
     "text": [
      "d:\\Python\\Python39\\lib\\site-packages\\sklearn\\base.py:450: UserWarning: X does not have valid feature names, but KNeighborsClassifier was fitted with feature names\n",
      "  warnings.warn(\n",
      "d:\\Python\\Python39\\lib\\site-packages\\sklearn\\base.py:450: UserWarning: X does not have valid feature names, but KNeighborsClassifier was fitted with feature names\n",
      "  warnings.warn(\n",
      "d:\\Python\\Python39\\lib\\site-packages\\sklearn\\base.py:450: UserWarning: X does not have valid feature names, but KNeighborsClassifier was fitted with feature names\n",
      "  warnings.warn(\n",
      "d:\\Python\\Python39\\lib\\site-packages\\sklearn\\base.py:450: UserWarning: X does not have valid feature names, but KNeighborsClassifier was fitted with feature names\n",
      "  warnings.warn(\n"
     ]
    }
   ],
   "source": [
    "X_train, X_test, y_train, y_test = train_test_split(X, y, test_size=0.20)\n",
    "\n",
    "classifier = KNeighborsClassifier(n_neighbors=5)\n",
    "classifier.fit(X_train, y_train)\n",
    "\n",
    "# proof of concept below\n",
    "wedh = classifier.predict([[6,10,32.0,0,1]])\n",
    "print(wedh)\n",
    "\n",
    "wddh = classifier.predict([[3,10,32.0,0,1]])\n",
    "print(wddh)\n",
    "\n",
    "wddc = classifier.predict([[3,10,26.0,0,1]])\n",
    "print(wddc)\n",
    "\n",
    "wenh = classifier.predict([[6,23,27.0,0,1]])\n",
    "print(wenh)"
   ]
  },
  {
   "cell_type": "code",
   "execution_count": 7,
   "metadata": {},
   "outputs": [],
   "source": [
    "error = []\n",
    "\n",
    "# Calculating error for K values between 1 and 40\n",
    "for i in range(1, 40):\n",
    "    knn = KNeighborsClassifier(n_neighbors=i)\n",
    "    knn.fit(X_train, y_train)\n",
    "    pred_i = knn.predict(X_test)\n",
    "    error.append(np.mean(pred_i != y_test))"
   ]
  },
  {
   "cell_type": "code",
   "execution_count": 8,
   "metadata": {},
   "outputs": [
    {
     "data": {
      "text/plain": [
       "Text(0, 0.5, 'Mean Error')"
      ]
     },
     "execution_count": 8,
     "metadata": {},
     "output_type": "execute_result"
    },
    {
     "data": {
      "image/png": "[encoded data removed]",
      "text/plain": [
       "<Figure size 864x432 with 1 Axes>"
      ]
     },
     "metadata": {
      "needs_background": "light"
     },
     "output_type": "display_data"
    }
   ],
   "source": [
    "plt.figure(figsize=(12, 6))\n",
    "plt.plot(range(1, 40), error, color='red', linestyle='dashed', marker='o',\n",
    "         markerfacecolor='blue', markersize=10)\n",
    "plt.title('Error Rate K Value')\n",
    "plt.xlabel('K Value')\n",
    "plt.ylabel('Mean Error')"
   ]
  }
 ],
 "metadata": {
  "kernelspec": {
   "display_name": "Python 3.9.2 64-bit",
   "language": "python",
   "name": "python3"
  },
  "language_info": {
   "codemirror_mode": {
    "name": "ipython",
    "version": 3
   },
   "file_extension": ".py",
   "mimetype": "text/x-python",
   "name": "python",
   "nbconvert_exporter": "python",
   "pygments_lexer": "ipython3",
   "version": "3.9.2"
  },
  "orig_nbformat": 4,
  "vscode": {
   "interpreter": {
    "hash": "1eb71e714c2a1bbfc91d3a1ed02399b846367c62fca82a5b3a9325d7b60709de"
   }
  }
 },
 "nbformat": 4,
 "nbformat_minor": 2
}
