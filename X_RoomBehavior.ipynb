{
 "cells": [
  {
   "cell_type": "code",
   "execution_count": 43,
   "metadata": {},
   "outputs": [
    {
     "data": {
      "text/html": [
       "<div>\n",
       "<style scoped>\n",
       "    .dataframe tbody tr th:only-of-type {\n",
       "        vertical-align: middle;\n",
       "    }\n",
       "\n",
       "    .dataframe tbody tr th {\n",
       "        vertical-align: top;\n",
       "    }\n",
       "\n",
       "    .dataframe thead th {\n",
       "        text-align: right;\n",
       "    }\n",
       "</style>\n",
       "<table border=\"1\" class=\"dataframe\">\n",
       "  <thead>\n",
       "    <tr style=\"text-align: right;\">\n",
       "      <th></th>\n",
       "      <th>day</th>\n",
       "      <th>hour</th>\n",
       "      <th>minute</th>\n",
       "      <th>temperature</th>\n",
       "      <th>humidity</th>\n",
       "      <th>light_state</th>\n",
       "      <th>aircon_state</th>\n",
       "      <th>aircon_temp</th>\n",
       "      <th>room</th>\n",
       "      <th>class</th>\n",
       "    </tr>\n",
       "  </thead>\n",
       "  <tbody>\n",
       "    <tr>\n",
       "      <th>0</th>\n",
       "      <td>0</td>\n",
       "      <td>0</td>\n",
       "      <td>10</td>\n",
       "      <td>33.81</td>\n",
       "      <td>83.21</td>\n",
       "      <td>0</td>\n",
       "      <td>1</td>\n",
       "      <td>27</td>\n",
       "      <td>testRoom</td>\n",
       "      <td>wddh</td>\n",
       "    </tr>\n",
       "    <tr>\n",
       "      <th>1</th>\n",
       "      <td>0</td>\n",
       "      <td>0</td>\n",
       "      <td>20</td>\n",
       "      <td>27.32</td>\n",
       "      <td>85.62</td>\n",
       "      <td>0</td>\n",
       "      <td>1</td>\n",
       "      <td>27</td>\n",
       "      <td>testRoom</td>\n",
       "      <td>wddh</td>\n",
       "    </tr>\n",
       "    <tr>\n",
       "      <th>2</th>\n",
       "      <td>0</td>\n",
       "      <td>0</td>\n",
       "      <td>30</td>\n",
       "      <td>31.08</td>\n",
       "      <td>91.14</td>\n",
       "      <td>0</td>\n",
       "      <td>1</td>\n",
       "      <td>28</td>\n",
       "      <td>testRoom</td>\n",
       "      <td>wddh</td>\n",
       "    </tr>\n",
       "    <tr>\n",
       "      <th>3</th>\n",
       "      <td>0</td>\n",
       "      <td>0</td>\n",
       "      <td>40</td>\n",
       "      <td>33.91</td>\n",
       "      <td>88.28</td>\n",
       "      <td>0</td>\n",
       "      <td>1</td>\n",
       "      <td>24</td>\n",
       "      <td>testRoom</td>\n",
       "      <td>wddh</td>\n",
       "    </tr>\n",
       "    <tr>\n",
       "      <th>4</th>\n",
       "      <td>0</td>\n",
       "      <td>0</td>\n",
       "      <td>50</td>\n",
       "      <td>27.62</td>\n",
       "      <td>94.32</td>\n",
       "      <td>0</td>\n",
       "      <td>1</td>\n",
       "      <td>25</td>\n",
       "      <td>testRoom</td>\n",
       "      <td>wddh</td>\n",
       "    </tr>\n",
       "  </tbody>\n",
       "</table>\n",
       "</div>"
      ],
      "text/plain": [
       "   day  hour  minute  temperature  humidity  light_state  aircon_state  \\\n",
       "0    0     0      10        33.81     83.21            0             1   \n",
       "1    0     0      20        27.32     85.62            0             1   \n",
       "2    0     0      30        31.08     91.14            0             1   \n",
       "3    0     0      40        33.91     88.28            0             1   \n",
       "4    0     0      50        27.62     94.32            0             1   \n",
       "\n",
       "   aircon_temp      room class  \n",
       "0           27  testRoom  wddh  \n",
       "1           27  testRoom  wddh  \n",
       "2           28  testRoom  wddh  \n",
       "3           24  testRoom  wddh  \n",
       "4           25  testRoom  wddh  "
      ]
     },
     "execution_count": 43,
     "metadata": {},
     "output_type": "execute_result"
    }
   ],
   "source": [
    "import sns\n",
    "import pandas as pd\n",
    "import sklearn\n",
    "from sklearn.cluster import KMeans\n",
    "\n",
    "\n",
    "data = pd.read_csv('data.csv')\n",
    "#day of week, time, temperature, humidity, light on/off, aircon on/off, aircon temp, room, class\n",
    "data.columns = [\"day\", \"hour\", \"minute\", \"temperature\", \"humidity\", \"light_state\", \"aircon_state\", \"aircon_temp\", \"room\", \"class\"]\n",
    "data.head()"
   ]
  },
  {
   "cell_type": "markdown",
   "metadata": {},
   "source": [
    "# Clean up"
   ]
  },
  {
   "cell_type": "code",
   "execution_count": 44,
   "metadata": {},
   "outputs": [
    {
     "data": {
      "text/html": [
       "<div>\n",
       "<style scoped>\n",
       "    .dataframe tbody tr th:only-of-type {\n",
       "        vertical-align: middle;\n",
       "    }\n",
       "\n",
       "    .dataframe tbody tr th {\n",
       "        vertical-align: top;\n",
       "    }\n",
       "\n",
       "    .dataframe thead th {\n",
       "        text-align: right;\n",
       "    }\n",
       "</style>\n",
       "<table border=\"1\" class=\"dataframe\">\n",
       "  <thead>\n",
       "    <tr style=\"text-align: right;\">\n",
       "      <th></th>\n",
       "      <th>day</th>\n",
       "      <th>hour</th>\n",
       "      <th>minute</th>\n",
       "      <th>temperature</th>\n",
       "      <th>humidity</th>\n",
       "      <th>light_state</th>\n",
       "      <th>aircon_state</th>\n",
       "      <th>aircon_temp</th>\n",
       "      <th>class</th>\n",
       "    </tr>\n",
       "  </thead>\n",
       "  <tbody>\n",
       "    <tr>\n",
       "      <th>0</th>\n",
       "      <td>0</td>\n",
       "      <td>0</td>\n",
       "      <td>10</td>\n",
       "      <td>33.81</td>\n",
       "      <td>83.21</td>\n",
       "      <td>0</td>\n",
       "      <td>1</td>\n",
       "      <td>27</td>\n",
       "      <td>wddh</td>\n",
       "    </tr>\n",
       "    <tr>\n",
       "      <th>1</th>\n",
       "      <td>0</td>\n",
       "      <td>0</td>\n",
       "      <td>20</td>\n",
       "      <td>27.32</td>\n",
       "      <td>85.62</td>\n",
       "      <td>0</td>\n",
       "      <td>1</td>\n",
       "      <td>27</td>\n",
       "      <td>wddh</td>\n",
       "    </tr>\n",
       "    <tr>\n",
       "      <th>2</th>\n",
       "      <td>0</td>\n",
       "      <td>0</td>\n",
       "      <td>30</td>\n",
       "      <td>31.08</td>\n",
       "      <td>91.14</td>\n",
       "      <td>0</td>\n",
       "      <td>1</td>\n",
       "      <td>28</td>\n",
       "      <td>wddh</td>\n",
       "    </tr>\n",
       "    <tr>\n",
       "      <th>3</th>\n",
       "      <td>0</td>\n",
       "      <td>0</td>\n",
       "      <td>40</td>\n",
       "      <td>33.91</td>\n",
       "      <td>88.28</td>\n",
       "      <td>0</td>\n",
       "      <td>1</td>\n",
       "      <td>24</td>\n",
       "      <td>wddh</td>\n",
       "    </tr>\n",
       "    <tr>\n",
       "      <th>4</th>\n",
       "      <td>0</td>\n",
       "      <td>0</td>\n",
       "      <td>50</td>\n",
       "      <td>27.62</td>\n",
       "      <td>94.32</td>\n",
       "      <td>0</td>\n",
       "      <td>1</td>\n",
       "      <td>25</td>\n",
       "      <td>wddh</td>\n",
       "    </tr>\n",
       "  </tbody>\n",
       "</table>\n",
       "</div>"
      ],
      "text/plain": [
       "   day  hour  minute  temperature  humidity  light_state  aircon_state  \\\n",
       "0    0     0      10        33.81     83.21            0             1   \n",
       "1    0     0      20        27.32     85.62            0             1   \n",
       "2    0     0      30        31.08     91.14            0             1   \n",
       "3    0     0      40        33.91     88.28            0             1   \n",
       "4    0     0      50        27.62     94.32            0             1   \n",
       "\n",
       "   aircon_temp class  \n",
       "0           27  wddh  \n",
       "1           27  wddh  \n",
       "2           28  wddh  \n",
       "3           24  wddh  \n",
       "4           25  wddh  "
      ]
     },
     "execution_count": 44,
     "metadata": {},
     "output_type": "execute_result"
    }
   ],
   "source": [
    "data = data.drop(columns=[\"room\"])\n",
    "data.head()"
   ]
  },
  {
   "cell_type": "code",
   "execution_count": 45,
   "metadata": {},
   "outputs": [
    {
     "name": "stdout",
     "output_type": "stream",
     "text": [
      "['wddh', 'wddc', 'wdnh', 'wdnc', 'wedh', 'wenh', 'wedc', 'wenc']\n",
      "Categories (8, object): ['wddc', 'wddh', 'wdnc', 'wdnh', 'wedc', 'wedh', 'wenc', 'wenh']\n",
      "8\n"
     ]
    }
   ],
   "source": [
    "data['class'] = data['class'].astype('category')\n",
    "data.describe(include='category')\n",
    "print(data[\"class\"].unique())\n",
    "\n",
    "i= 0\n",
    "for unique in data[\"class\"].unique():\n",
    "    i += 1\n",
    "clusters = i\n",
    "print(clusters)"
   ]
  },
  {
   "cell_type": "code",
   "execution_count": 49,
   "metadata": {},
   "outputs": [
    {
     "ename": "TypeError",
     "evalue": "KMeans.__init__() got an unexpected keyword argument 'n_jobs'",
     "output_type": "error",
     "traceback": [
      "\u001b[1;31m---------------------------------------------------------------------------\u001b[0m",
      "\u001b[1;31mTypeError\u001b[0m                                 Traceback (most recent call last)",
      "\u001b[1;32md:\\Git Repos\\3004_G25_Smart_Home_Automation\\X_RoomBehavior.ipynb Cell 5'\u001b[0m in \u001b[0;36m<cell line: 1>\u001b[1;34m()\u001b[0m\n\u001b[1;32m----> <a href='vscode-notebook-cell:/d%3A/Git%20Repos/3004_G25_Smart_Home_Automation/X_RoomBehavior.ipynb#ch0000004?line=0'>1</a>\u001b[0m clustering_kmeans \u001b[39m=\u001b[39m KMeans(n_clusters\u001b[39m=\u001b[39;49m\u001b[39m2\u001b[39;49m, n_jobs\u001b[39m=\u001b[39;49m\u001b[39m-\u001b[39;49m\u001b[39m1\u001b[39;49m)\n\u001b[0;32m      <a href='vscode-notebook-cell:/d%3A/Git%20Repos/3004_G25_Smart_Home_Automation/X_RoomBehavior.ipynb#ch0000004?line=1'>2</a>\u001b[0m data[\u001b[39m'\u001b[39m\u001b[39mclusters\u001b[39m\u001b[39m'\u001b[39m] \u001b[39m=\u001b[39m clustering_kmeans\u001b[39m.\u001b[39mfit_predict(data)\n\u001b[0;32m      <a href='vscode-notebook-cell:/d%3A/Git%20Repos/3004_G25_Smart_Home_Automation/X_RoomBehavior.ipynb#ch0000004?line=4'>5</a>\u001b[0m data\u001b[39m.\u001b[39mhead(\u001b[39m25\u001b[39m)\n",
      "\u001b[1;31mTypeError\u001b[0m: KMeans.__init__() got an unexpected keyword argument 'n_jobs'"
     ]
    }
   ],
   "source": [
    "clustering_kmeans = KMeans(n_clusters=2)\n",
    "data['clusters'] = clustering_kmeans.fit_predict(data)\n",
    "\n",
    "\n",
    "data.head(25)"
   ]
  },
  {
   "cell_type": "code",
   "execution_count": 47,
   "metadata": {},
   "outputs": [
    {
     "data": {
      "image/png": "[encoded data removed]",
      "text/plain": [
       "<Figure size 432x288 with 1 Axes>"
      ]
     },
     "metadata": {
      "needs_background": "light"
     },
     "output_type": "display_data"
    }
   ],
   "source": [
    "from sklearn.decomposition import PCA\n",
    "import seaborn as sns\n",
    "import matplotlib.pyplot as plt\n",
    "pca_num_components = 2\n",
    "data = data.drop(columns=[\"class\"])\n",
    "reduced_data = PCA(n_components=pca_num_components).fit_transform(data)\n",
    "results = pd.DataFrame(reduced_data,columns=['pca1','pca2'])\n",
    "\n",
    "sns.scatterplot(x=\"pca1\", y=\"pca2\", hue=data['clusters'], data=results)\n",
    "plt.title('K-means Clustering with 2 dimensions')\n",
    "plt.show()"
   ]
  }
 ],
 "metadata": {
  "kernelspec": {
   "display_name": "Python 3.10.5 64-bit",
   "language": "python",
   "name": "python3"
  },
  "language_info": {
   "codemirror_mode": {
    "name": "ipython",
    "version": 3
   },
   "file_extension": ".py",
   "mimetype": "text/x-python",
   "name": "python",
   "nbconvert_exporter": "python",
   "pygments_lexer": "ipython3",
   "version": "3.10.5"
  },
  "orig_nbformat": 4,
  "vscode": {
   "interpreter": {
    "hash": "26de051ba29f2982a8de78e945f0abaf191376122a1563185a90213a26c5da77"
   }
  }
 },
 "nbformat": 4,
 "nbformat_minor": 2
}
