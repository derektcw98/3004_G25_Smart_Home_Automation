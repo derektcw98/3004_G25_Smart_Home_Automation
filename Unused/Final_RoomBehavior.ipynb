{
 "cells": [
  {
   "cell_type": "code",
   "execution_count": 10,
   "metadata": {},
   "outputs": [],
   "source": [
    "#Classify data from DB here\n",
    "import numpy as np\n",
    "import pandas as pd\n",
    "from sklearn.model_selection import train_test_split\n",
    "from sklearn.neighbors import KNeighborsClassifier\n",
    "import matplotlib.pyplot as plt \n",
    "import seaborn as sns\n",
    "from sklearn.preprocessing import StandardScaler\n",
    "\n",
    "# df = pd.read_csv('data.csv', header = None)\n",
    "# df.columns = [\"day\", \"hour\", \"minute\", \"temperature\", \"humidity\", \"light_state\", \"aircon_state\", \"aircon_temp\", \"room\", \"class\"]\n",
    "# df = df.drop(\"class\", axis = 1)\n",
    "# df.to_csv(\"noclass.csv\", index = False, header=False)\n",
    "\n",
    "df = pd.read_csv('noclass.csv')\n",
    "\n",
    "labels = []\n",
    "for i in df.index:\n",
    "    lightState = int(df.iloc[i,5])\n",
    "    airconState = int(df.iloc[i,6])\n",
    "    if airconState == 0 and lightState == 0:\n",
    "        label = \"nanl\"\n",
    "    elif airconState == 0 and lightState == 1:\n",
    "        label = \"nagl\"\n",
    "    elif airconState == 1 and lightState == 0: \n",
    "        label = \"ganl\"\n",
    "    elif airconState == 1 and lightState == 1:\n",
    "        label = \"gagl\"\n",
    "    labels.append(label)\n",
    "\n",
    "df.insert(9,\"class\", labels, True)\n",
    "\n",
    "df.to_csv(\"post.csv\", index = False)\n"
   ]
  },
  {
   "cell_type": "code",
   "execution_count": 11,
   "metadata": {},
   "outputs": [],
   "source": [
    "\n",
    "df = pd.read_csv('post.csv', header= None)\n",
    "#day of week, time, temperature, humidity, light on/off, aircon on/off, aircon temp, room, class\n",
    "df.columns = [\"day\", \"hour\", \"minute\", \"temperature\", \"humidity\", \"light_state\", \"aircon_state\", \"aircon_temp\", \"room\", \"class\"]\n",
    "\n",
    "# tentatively reduced to 5 features for POC\n",
    "y = df['class']\n",
    "X = df.drop('class', axis =1)\n",
    "# X = X.drop('hour', axis = 1)\n",
    "X = X.drop('minute', axis = 1)\n",
    "X = X.drop('light_state', axis = 1)\n",
    "X = X.drop('aircon_state', axis = 1)\n",
    "X = X.drop('aircon_temp', axis = 1)\n",
    "X = X.drop('room', axis = 1)\n",
    "X = X.drop('humidity', axis = 1)\n"
   ]
  },
  {
   "cell_type": "code",
   "execution_count": 17,
   "metadata": {},
   "outputs": [
    {
     "name": "stdout",
     "output_type": "stream",
     "text": [
      "[[   0    0    0    1    0]\n",
      " [   0   58 1065 1086   58]\n",
      " [   0  236 9750  138  464]\n",
      " [   0  183  197 9348   81]\n",
      " [   0   68 1804 1054  214]]\n"
     ]
    },
    {
     "name": "stderr",
     "output_type": "stream",
     "text": [
      "C:\\Users\\xuezh\\AppData\\Roaming\\Python\\Python310\\site-packages\\sklearn\\metrics\\_classification.py:1327: UndefinedMetricWarning: Precision and F-score are ill-defined and being set to 0.0 in labels with no predicted samples. Use `zero_division` parameter to control this behavior.\n",
      "  _warn_prf(average, modifier, msg_start, len(result))\n"
     ]
    },
    {
     "name": "stdout",
     "output_type": "stream",
     "text": [
      "              precision    recall  f1-score   support\n",
      "\n",
      "       class       0.00      0.00      0.00         1\n",
      "        gagl       0.11      0.03      0.04      2267\n",
      "        ganl       0.76      0.92      0.83     10588\n",
      "        nagl       0.80      0.95      0.87      9809\n",
      "        nanl       0.26      0.07      0.11      3140\n",
      "\n",
      "    accuracy                           0.75     25805\n",
      "   macro avg       0.39      0.39      0.37     25805\n",
      "weighted avg       0.66      0.75      0.69     25805\n",
      "\n"
     ]
    },
    {
     "name": "stderr",
     "output_type": "stream",
     "text": [
      "C:\\Users\\xuezh\\AppData\\Roaming\\Python\\Python310\\site-packages\\sklearn\\metrics\\_classification.py:1327: UndefinedMetricWarning: Precision and F-score are ill-defined and being set to 0.0 in labels with no predicted samples. Use `zero_division` parameter to control this behavior.\n",
      "  _warn_prf(average, modifier, msg_start, len(result))\n",
      "C:\\Users\\xuezh\\AppData\\Roaming\\Python\\Python310\\site-packages\\sklearn\\metrics\\_classification.py:1327: UndefinedMetricWarning: Precision and F-score are ill-defined and being set to 0.0 in labels with no predicted samples. Use `zero_division` parameter to control this behavior.\n",
      "  _warn_prf(average, modifier, msg_start, len(result))\n"
     ]
    }
   ],
   "source": [
    "X_train, X_test, y_train, y_test = train_test_split(X, y, test_size=0.20, random_state=100)\n",
    "\n",
    "classifier = KNeighborsClassifier(n_neighbors=5)\n",
    "classifier.fit(X_train, y_train)\n",
    "y_pred = classifier.predict(X_test)\n",
    "\n",
    "from sklearn.metrics import classification_report, confusion_matrix\n",
    "print(confusion_matrix(y_test, y_pred))\n",
    "print(classification_report(y_test, y_pred))"
   ]
  },
  {
   "cell_type": "code",
   "execution_count": 13,
   "metadata": {},
   "outputs": [],
   "source": [
    "from sklearn import tree\n",
    "from sklearn.metrics import accuracy_score\n",
    "\n",
    "testNeighbors = [1,3,5,7,9,11,13,15,17,19,21,31,41,51,61,71,81,91,101,201,265]\n",
    "error = []\n",
    "trainAcc = []\n",
    "testAcc = []\n",
    "\n",
    "# Calculating error for K values between 1 and 265\n",
    "for i in testNeighbors:\n",
    "    knn = KNeighborsClassifier(n_neighbors=i)\n",
    "    knn.fit(X_train, y_train)\n",
    "    Y_predTrain = knn.predict(X_train)\n",
    "    Y_predTest = knn.predict(X_test)\n",
    "    trainAcc.append(accuracy_score(y_train, Y_predTrain))\n",
    "    testAcc.append(accuracy_score(y_test, Y_predTest))"
   ]
  },
  {
   "cell_type": "code",
   "execution_count": 14,
   "metadata": {},
   "outputs": [
    {
     "data": {
      "text/plain": [
       "Text(0, 0.5, 'Accuracy')"
      ]
     },
     "execution_count": 14,
     "metadata": {},
     "output_type": "execute_result"
    },
    {
     "data": {
      "image/png": "[encoded data removed]",
      "text/plain": [
       "<Figure size 432x288 with 1 Axes>"
      ]
     },
     "metadata": {
      "needs_background": "light"
     },
     "output_type": "display_data"
    }
   ],
   "source": [
    "plt.plot(testNeighbors, trainAcc, 'ro-', testNeighbors, testAcc,'bv--')\n",
    "plt.legend(['Training Accuracy','Test Accuracy'])\n",
    "plt.xlabel('Number of neighbors')\n",
    "plt.ylabel('Accuracy')"
   ]
  },
  {
   "cell_type": "code",
   "execution_count": 15,
   "metadata": {},
   "outputs": [
    {
     "name": "stdout",
     "output_type": "stream",
     "text": [
      "[[    0     0     0     1     0]\n",
      " [    0     6  1102  1112    47]\n",
      " [    0    41 10029   129   389]\n",
      " [    0    14   198  9567    30]\n",
      " [    0    12  1854  1079   195]]\n"
     ]
    },
    {
     "name": "stderr",
     "output_type": "stream",
     "text": [
      "C:\\Users\\xuezh\\AppData\\Roaming\\Python\\Python310\\site-packages\\sklearn\\metrics\\_classification.py:1327: UndefinedMetricWarning: Precision and F-score are ill-defined and being set to 0.0 in labels with no predicted samples. Use `zero_division` parameter to control this behavior.\n",
      "  _warn_prf(average, modifier, msg_start, len(result))\n",
      "C:\\Users\\xuezh\\AppData\\Roaming\\Python\\Python310\\site-packages\\sklearn\\metrics\\_classification.py:1327: UndefinedMetricWarning: Precision and F-score are ill-defined and being set to 0.0 in labels with no predicted samples. Use `zero_division` parameter to control this behavior.\n",
      "  _warn_prf(average, modifier, msg_start, len(result))\n",
      "C:\\Users\\xuezh\\AppData\\Roaming\\Python\\Python310\\site-packages\\sklearn\\metrics\\_classification.py:1327: UndefinedMetricWarning: Precision and F-score are ill-defined and being set to 0.0 in labels with no predicted samples. Use `zero_division` parameter to control this behavior.\n",
      "  _warn_prf(average, modifier, msg_start, len(result))\n"
     ]
    },
    {
     "name": "stdout",
     "output_type": "stream",
     "text": [
      "              precision    recall  f1-score   support\n",
      "\n",
      "       class       0.00      0.00      0.00         1\n",
      "        gagl       0.08      0.00      0.01      2267\n",
      "        ganl       0.76      0.95      0.84     10588\n",
      "        nagl       0.80      0.98      0.88      9809\n",
      "        nanl       0.30      0.06      0.10      3140\n",
      "\n",
      "    accuracy                           0.77     25805\n",
      "   macro avg       0.39      0.40      0.37     25805\n",
      "weighted avg       0.66      0.77      0.69     25805\n",
      "\n",
      "['nagl' 'ganl' 'ganl' ... 'nagl' 'ganl' 'ganl']\n"
     ]
    }
   ],
   "source": [
    "classifier = KNeighborsClassifier(n_neighbors=9)\n",
    "classifier.fit(X_train, y_train)\n",
    "y_pred = classifier.predict(X_test)\n",
    "\n",
    "from sklearn.metrics import classification_report, confusion_matrix\n",
    "print(confusion_matrix(y_test, y_pred))\n",
    "print(classification_report(y_test, y_pred))\n",
    "\n",
    "import pickle\n",
    "knnPickle = open('knnPrediction', 'wb') \n",
    "\n",
    "# source, destination \n",
    "pickle.dump(knn, knnPickle)  \n",
    "knnPickle.close()\n",
    "# load the model from disk\n",
    "loaded_model = pickle.load(open('knnPrediction', 'rb'))\n",
    "result = loaded_model.predict(X_test)\n",
    "print(result)"
   ]
  },
  {
   "cell_type": "markdown",
   "metadata": {},
   "source": [
    "# Do a check for accuracy \"if\" statement before saving model"
   ]
  }
 ],
 "metadata": {
  "kernelspec": {
   "display_name": "Python 3.10.5 64-bit",
   "language": "python",
   "name": "python3"
  },
  "language_info": {
   "codemirror_mode": {
    "name": "ipython",
    "version": 3
   },
   "file_extension": ".py",
   "mimetype": "text/x-python",
   "name": "python",
   "nbconvert_exporter": "python",
   "pygments_lexer": "ipython3",
   "version": "3.10.5"
  },
  "orig_nbformat": 4,
  "vscode": {
   "interpreter": {
    "hash": "26de051ba29f2982a8de78e945f0abaf191376122a1563185a90213a26c5da77"
   }
  }
 },
 "nbformat": 4,
 "nbformat_minor": 2
}
